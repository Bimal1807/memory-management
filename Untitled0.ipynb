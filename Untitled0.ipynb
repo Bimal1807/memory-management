{
  "nbformat": 4,
  "nbformat_minor": 0,
  "metadata": {
    "colab": {
      "provenance": []
    },
    "kernelspec": {
      "name": "python3",
      "display_name": "Python 3"
    },
    "language_info": {
      "name": "python"
    }
  },
  "cells": [
    {
      "cell_type": "markdown",
      "source": [
        "**THEORY QUESTIONS**"
      ],
      "metadata": {
        "id": "GVI9dN5lgtkd"
      }
    },
    {
      "cell_type": "markdown",
      "source": [
        "Ques 1- What is the difference between interpreted and compiled languages?\n",
        "\n",
        "Ans 1- An interpreted language is executed line-by-line by an interpreter at runtime, while a compiled language is first translated into machine code by a compiler before execution. Interpreted languages are usually more flexible and easier to debug, but compiled languages tend to offer better performance.\n",
        "\n",
        "\n",
        "\n",
        "\n",
        "\n"
      ],
      "metadata": {
        "id": "xGQzXa_Wg2Gg"
      }
    },
    {
      "cell_type": "markdown",
      "source": [
        "Ques 2- What is exception handling in Python?\n",
        "\n",
        "Ans 2- Exception handling in Python is a mechanism to handle runtime errors using try, except, else, and finally blocks. It helps in catching errors without terminating the program, allowing the program to recover from\n",
        "unexpected situations."
      ],
      "metadata": {
        "id": "VSSfI77_iRpm"
      }
    },
    {
      "cell_type": "markdown",
      "source": [
        "Ques 3- What is the purpose of the finally block in exception handling?\n",
        "\n",
        "Ans 3- he finally block in Python is used to ensure that certain code is always executed, regardless of whether an exception was raised or not. It's typically used for cleanup actions, such as closing files or releasing resources."
      ],
      "metadata": {
        "id": "PfUqjGHIidxS"
      }
    },
    {
      "cell_type": "markdown",
      "source": [
        "Ques 4-  What is logging in Python?\n",
        "\n",
        "Ans 4- Logging in Python refers to tracking events during program execution, which helps in debugging, monitoring, and auditing. The logging module allows for recording messages at different severity levels (e.g., DEBUG,INFO, WARNING, ERROR, CRITICAL)."
      ],
      "metadata": {
        "id": "7MsbmfXPisom"
      }
    },
    {
      "cell_type": "markdown",
      "source": [
        "Ques 5- What is the significance of the __del__ method in Python?\n",
        "\n",
        "Ans 5- The __del__ method is called when an object is about to be destroyed. It can be used for cleanup tasks,\n",
        "such as releasing external resources like network connections or file handles. However, it should be used with\n",
        "caution as its behavior can be unpredictable in certain cases."
      ],
      "metadata": {
        "id": "2BI6sXo2i6O5"
      }
    },
    {
      "cell_type": "markdown",
      "source": [
        "Ques 6- What is the difference between import and from ... import in Python?\n",
        "\n",
        "Ans 6- The import statement imports an entire module, whereas from ... import allows you to import specific\n",
        "functions, classes, or variables from a module. This can make your code more concise and readable."
      ],
      "metadata": {
        "id": "RO-qagmpjDAM"
      }
    },
    {
      "cell_type": "markdown",
      "source": [
        "Ques 7- How can you handle multiple exceptions in Python?\n",
        "\n",
        "Ans 7-  Multiple exceptions can be handled by using multiple except blocks or by catching multiple exceptions in a\n",
        "single block using a tuple. This allows for different actions to be taken depending on the type of exception.\n",
        "\n",
        "\n"
      ],
      "metadata": {
        "id": "SvtoHeisjPRc"
      }
    },
    {
      "cell_type": "markdown",
      "source": [
        "Ques 8- What is the purpose of the with statement when handling files in Python?\n",
        "\n",
        "Ans 8- The with statement simplifies file handling by automatically closing the file after the block of code is\n",
        "executed. It ensures proper resource management and prevents file handles from being left open."
      ],
      "metadata": {
        "id": "PaDdGVEEjaTm"
      }
    },
    {
      "cell_type": "markdown",
      "source": [
        "Ques 9- What is the difference between multithreading and multiprocessing?\n",
        "\n",
        "Ans 9-  Multithreading allows multiple threads to run within the same process, sharing memory and resources,\n",
        "making it ideal for I/O-bound tasks. Multiprocessing, on the other hand, uses multiple processes, each with\n",
        "its own memory space, and is better suited for CPU-bound tasks."
      ],
      "metadata": {
        "id": "Gr5vh0psjiRW"
      }
    },
    {
      "cell_type": "markdown",
      "source": [
        "Ques 10-  What are the advantages of using logging in a program?\n",
        "\n",
        "Ans 10- Logging helps track the flow of execution, capture errors, monitor system behavior, and diagnose issues. It\n",
        "provides a persistent record of program execution, which is essential for debugging and auditing."
      ],
      "metadata": {
        "id": "JSuc4T2ImcgY"
      }
    },
    {
      "cell_type": "markdown",
      "source": [
        "Ques 11- What is memory management in Python?\n",
        "\n",
        "Ans 11- Memory management in Python involves automatically handling the allocation and deallocation of memory\n",
        "through reference counting and garbage collection. Python's memory manager handles the dynamic\n",
        "allocation of memory for objects, while garbage collection removes objects that are no longer in use."
      ],
      "metadata": {
        "id": "TFSqLIMvmvqU"
      }
    },
    {
      "cell_type": "markdown",
      "source": [
        "Ques 12- What are the basic steps involved in exception handling in Python?\n",
        "\n",
        "Ans 12- The basic steps include :\n",
        "\n",
        "* Wrapping the code that might raise an exception in a try block\n",
        "* Catching exceptions in an except block\n",
        "* Optionally using else for code that runs if no exception occurs\n",
        "* Using finally to execute cleanup code, regardless of success or failure.\n"
      ],
      "metadata": {
        "id": "XkPs3zVSm3y3"
      }
    },
    {
      "cell_type": "markdown",
      "source": [
        "Ques 13-  Why is memory management important in Python?\n",
        "\n",
        "Ans 13- Effective memory management is important for performance and avoiding memory leaks. It ensures that\n",
        "memory is used efficiently, preventing unnecessary memory usage, and helps the program run faster by\n",
        "reclaiming unused memory."
      ],
      "metadata": {
        "id": "RNowYzw_nxPO"
      }
    },
    {
      "cell_type": "markdown",
      "source": [
        "Ques 14- What is the role of try and except in exception handling?\n",
        "\n",
        "Ans 14- The try block contains code that might raise an exception, while the except block defines how to handle\n",
        "those exceptions. If an exception occurs in the try block, Python jumps to the corresponding except block to\n",
        "handle the error."
      ],
      "metadata": {
        "id": "-fZtGzsDn5vb"
      }
    },
    {
      "cell_type": "markdown",
      "source": [
        "Ques 15- How does Python's garbage collection system work>\n",
        "\n",
        "Ans 15- Python's garbage collection system automatically frees memory by removing objects that are no longer\n",
        "referenced. This is achieved through reference counting and, when necessary, a cycle detector that finds\n",
        "and removes cyclic references."
      ],
      "metadata": {
        "id": "sa9NzkNcoD7B"
      }
    },
    {
      "cell_type": "markdown",
      "source": [
        "Ques 16- What is the purpose of the else block in exception handling?\n",
        "\n",
        "Ans 16-  The else block in exception handling is executed if no exception occurs in the try block. It allows for code that\n",
        "should only run when there is no error, ensuring that error-handling logic is kept separate."
      ],
      "metadata": {
        "id": "XO9U6hCdoNWP"
      }
    },
    {
      "cell_type": "markdown",
      "source": [
        "Ques 17- What are the common logging levels in Python?\n",
        "\n",
        "Ans 17- The common logging levels in Python are :\n",
        "\n",
        "* DEBUG\n",
        "* INFO\n",
        "* WARNING\n",
        "* ERROR\n",
        "* CRITICAL\n",
        "\n",
        "These levels determine the severity of the events being logged and help in filtering the log output."
      ],
      "metadata": {
        "id": "YOa98dp5oUin"
      }
    },
    {
      "cell_type": "markdown",
      "source": [
        "Ques 18- What is the difference between os.fork() and multiprocessing in Python?\n",
        "\n",
        "Ans 18- os.fork()’ is a system call used to create a child process in Unix-like systems. In contrast, the multiprocessing\n",
        "module provides a higher-level interface for parallelism and works across platforms, including Windows, to\n",
        "create and manage multiple processes."
      ],
      "metadata": {
        "id": "ChAb17vIo7pp"
      }
    },
    {
      "cell_type": "markdown",
      "source": [
        "Ques 19- What is the importance of closing a file in Python?\n",
        "\n",
        "Ans 19-  Closing a file is essential for freeing up system resources. When a file is closed, the operating system can\n",
        "reclaim its resources, and data is written back to disk if the file was opened in write mode."
      ],
      "metadata": {
        "id": "rYN5FCpbpEy8"
      }
    },
    {
      "cell_type": "markdown",
      "source": [
        "Ques 20-  What is the difference between file.read() and file.readline() in Python?\n",
        "\n",
        "Ans 20- file.read() reads the entire content of the file as a single string, whereas file.readline() reads the file one line\n",
        "at a time. read() is typically used for small files, while readline() is more memory-efficient for large files."
      ],
      "metadata": {
        "id": "0e-ZSH2ZpMnm"
      }
    },
    {
      "cell_type": "markdown",
      "source": [
        "Ques 21- What is the logging module in Python used for?\n",
        "\n",
        "Ans 21- The logging module in Python provides a flexible framework for emitting log messages from Python\n",
        "programs. It allows developers to record messages of varying severity and manage how messages are\n",
        "displayed or saved."
      ],
      "metadata": {
        "id": "7mCpVk2IpjvL"
      }
    },
    {
      "cell_type": "markdown",
      "source": [
        "Ques 22- What is the os module in Python used for in file handling?\n",
        "\n",
        "Ans 22- The os module in Python provides functions to interact with the operating system, such as handling file\n",
        "paths, creating or deleting files, checking file existence, and navigating the file system."
      ],
      "metadata": {
        "id": "F96u2yBNpuJd"
      }
    },
    {
      "cell_type": "markdown",
      "source": [
        "Ques 23-  What are the challenges associated with memory management in Python?\n",
        "\n",
        "Ans 23- The main challenges with memory management in Python include dealing with memory leaks caused by\n",
        "circular references, managing large datasets, and ensuring that objects are properly garbage collected\n",
        "when no longer in use."
      ],
      "metadata": {
        "id": "rhKvkZyAjlWH"
      }
    },
    {
      "cell_type": "markdown",
      "source": [
        "Ques 24- How do you raise an exception manually in Python?\n",
        "\n",
        "Ans 24- You can raise an exception manually using the raise keyword, followed\n",
        "\n",
        "raise ValueError(\"An error occurred\")"
      ],
      "metadata": {
        "id": "v_eDv0q8p-B8"
      }
    },
    {
      "cell_type": "markdown",
      "source": [
        "Ques 25- Why is it important to use multithreading in certain applications?\n",
        "\n",
        "Ans 25-  Multithreading is important for improving the efficiency of I/O-bound applications by allowing multiple tasks\n",
        "to be executed concurrently. It helps reduce waiting times, making programs faster when performing tasks\n",
        "like network requests or file I/O."
      ],
      "metadata": {
        "id": "Nb7CVdRPp0bM"
      }
    },
    {
      "cell_type": "markdown",
      "source": [
        "**PRACTICAL QUESTIONS**"
      ],
      "metadata": {
        "id": "7O9GPuWeqZyy"
      }
    },
    {
      "cell_type": "markdown",
      "source": [
        "Ques 1- How can you open a file for writing in Python and write a string to it?"
      ],
      "metadata": {
        "id": "pyrGL4_7qfOG"
      }
    },
    {
      "cell_type": "code",
      "execution_count": null,
      "metadata": {
        "id": "D95dkr6QgKK8"
      },
      "outputs": [],
      "source": [
        "#Ans 1-\n",
        "file = open('example.txt', 'w')\n",
        "file.write('Hello, this is a test!')\n",
        "file.close()"
      ]
    },
    {
      "cell_type": "markdown",
      "source": [
        "Ques 2- Write a Python program to read the contents of a file and print each line."
      ],
      "metadata": {
        "id": "-X_7Jl_ctQav"
      }
    },
    {
      "cell_type": "code",
      "source": [
        "#Ans 2-\n",
        "file = open('example.txt', 'r')\n",
        "for line in file:\n",
        "    print(line)\n",
        "file.close()"
      ],
      "metadata": {
        "colab": {
          "base_uri": "https://localhost:8080/"
        },
        "id": "aCsTHSpZq1I_",
        "outputId": "373ebd06-2a2e-400c-ab49-261951006a4c"
      },
      "execution_count": null,
      "outputs": [
        {
          "output_type": "stream",
          "name": "stdout",
          "text": [
            "Hello, this is a test!\n"
          ]
        }
      ]
    },
    {
      "cell_type": "markdown",
      "source": [
        "Ques 3- How would you handle a case where the file doesn't exist while trying to open it for reading?\n",
        "\n"
      ],
      "metadata": {
        "id": "3Yv8UwUbtkwO"
      }
    },
    {
      "cell_type": "code",
      "source": [
        "#Ans 3-\n",
        "try:\n",
        "    file = open('nonexistent.txt', 'r')\n",
        "    content = file.read()\n",
        "    file.close()\n",
        "except FileNotFoundError:\n",
        "    print(\"File not found.\")"
      ],
      "metadata": {
        "colab": {
          "base_uri": "https://localhost:8080/"
        },
        "id": "QIJYVltWtsXl",
        "outputId": "563e47a4-4855-4c55-a94b-1b7aae068002"
      },
      "execution_count": null,
      "outputs": [
        {
          "output_type": "stream",
          "name": "stdout",
          "text": [
            "File not found.\n"
          ]
        }
      ]
    },
    {
      "cell_type": "markdown",
      "source": [
        "Ques 4- Write a Python script that reads from one file and writes its content to another file."
      ],
      "metadata": {
        "id": "LthHRwldunMq"
      }
    },
    {
      "cell_type": "code",
      "source": [
        "#Ans 4-\n",
        "with open('input.txt', 'r') as file:\n",
        "    data = file.read()\n",
        "\n",
        "with open('output.txt', 'w') as file:\n",
        "    file.write(data)"
      ],
      "metadata": {
        "id": "As0sDLU5tbE1"
      },
      "execution_count": null,
      "outputs": []
    },
    {
      "cell_type": "markdown",
      "source": [
        "Ques 5- How would you catch and handle division by zero error in Python?\n",
        "\n"
      ],
      "metadata": {
        "id": "nVQGeXTXvGIv"
      }
    },
    {
      "cell_type": "code",
      "source": [
        "#Ans 5-\n",
        "try:\n",
        "    result = 10 / 0\n",
        "except ZeroDivisionError:\n",
        "    print(\"Error: Division by zero\")"
      ],
      "metadata": {
        "colab": {
          "base_uri": "https://localhost:8080/"
        },
        "id": "DaA5CKtbvLGW",
        "outputId": "5c8598e1-d062-4292-9d10-1133b4a16da0"
      },
      "execution_count": null,
      "outputs": [
        {
          "output_type": "stream",
          "name": "stdout",
          "text": [
            "Error: Division by zero\n"
          ]
        }
      ]
    },
    {
      "cell_type": "markdown",
      "source": [
        "Ques 6- Write a Python program that logs an error message to a log file when a division by zero exception occurs."
      ],
      "metadata": {
        "id": "4dFZT9RvvQgG"
      }
    },
    {
      "cell_type": "code",
      "source": [
        "#Ans 6-\n",
        "import logging\n",
        "\n",
        "logging.basicConfig(filename='error.log', level=logging.ERROR)\n",
        "\n",
        "try:\n",
        "    result = 10 / 0\n",
        "except ZeroDivisionError:\n",
        "    logging.error(\"Division by zero error occurred\")"
      ],
      "metadata": {
        "colab": {
          "base_uri": "https://localhost:8080/"
        },
        "id": "55qJ18Eruv5j",
        "outputId": "9e7e520c-6d89-4b94-a267-5b21f33ea406"
      },
      "execution_count": null,
      "outputs": [
        {
          "output_type": "stream",
          "name": "stderr",
          "text": [
            "ERROR:root:Division by zero error occurred\n"
          ]
        }
      ]
    },
    {
      "cell_type": "markdown",
      "source": [
        "Ques 7- How do you log information at different levels (INFO, ERROR, WARNING) in Python using the logging module?"
      ],
      "metadata": {
        "id": "zVFzHTntvZnf"
      }
    },
    {
      "cell_type": "code",
      "source": [
        "#Ans 7-\n",
        "import logging\n",
        "\n",
        "logging.basicConfig(level=logging.INFO)\n",
        "logging.info(\"This is an info message\")\n",
        "\n",
        "logging.basicConfig(level=logging.ERROR)\n",
        "logging.error(\"This is an error message\")\n"
      ],
      "metadata": {
        "colab": {
          "base_uri": "https://localhost:8080/"
        },
        "id": "zwYGfX0hvX0I",
        "outputId": "328081df-e06c-4dfb-b7f7-0af4dd990c7e"
      },
      "execution_count": null,
      "outputs": [
        {
          "output_type": "stream",
          "name": "stderr",
          "text": [
            "ERROR:root:This is an error message\n"
          ]
        }
      ]
    },
    {
      "cell_type": "markdown",
      "source": [
        "Ques 8- Write a program to handle a file opening error using exception handling.\n",
        "\n"
      ],
      "metadata": {
        "id": "w7CeSdZevmdW"
      }
    },
    {
      "cell_type": "code",
      "source": [
        "#Ans 8-\n",
        "try:\n",
        "    file = open('nonexistent.txt', 'r')\n",
        "except FileNotFoundError:\n",
        "    print(\"File not found.\")\n"
      ],
      "metadata": {
        "colab": {
          "base_uri": "https://localhost:8080/"
        },
        "id": "__14pMHCvkks",
        "outputId": "39464780-3b47-45ea-e0a2-10090737ecc0"
      },
      "execution_count": null,
      "outputs": [
        {
          "output_type": "stream",
          "name": "stdout",
          "text": [
            "File not found.\n"
          ]
        }
      ]
    },
    {
      "cell_type": "markdown",
      "source": [
        "Ques 9- How can you read a file line by line and store its content in a list in Python?"
      ],
      "metadata": {
        "id": "a2yeW5n1v1b3"
      }
    },
    {
      "cell_type": "code",
      "source": [
        "#Ans 9-\n",
        "with open('example.txt', 'r') as file:\n",
        "    lines = file.readlines()\n",
        "    for line in lines:\n",
        "        print(line)\n"
      ],
      "metadata": {
        "colab": {
          "base_uri": "https://localhost:8080/"
        },
        "id": "H8k1narVvx88",
        "outputId": "6ffc0319-d117-4d29-fe80-118b78425b49"
      },
      "execution_count": null,
      "outputs": [
        {
          "output_type": "stream",
          "name": "stdout",
          "text": [
            "Hello, this is a test!\n"
          ]
        }
      ]
    },
    {
      "cell_type": "markdown",
      "source": [
        "Ques 10- How can you append data to an existing file in Python?\n",
        "\n"
      ],
      "metadata": {
        "id": "kIFjqTQPwIFl"
      }
    },
    {
      "cell_type": "code",
      "source": [
        "#Ans 10-\n",
        "with open('example.txt', 'a') as file:\n",
        "    file.write('\\nAppended line')\n"
      ],
      "metadata": {
        "id": "Y1Y5vR_sv6GA"
      },
      "execution_count": null,
      "outputs": []
    },
    {
      "cell_type": "markdown",
      "source": [
        "Ques 11- Write a Python program that uses a try-except block to handle an error when attempting to access a dictionary key that doesn't exist."
      ],
      "metadata": {
        "id": "cb3y04A-wXqi"
      }
    },
    {
      "cell_type": "code",
      "source": [
        "#Ans 11-\n",
        "my_dict = {'a': 1, 'b': 2}\n",
        "\n",
        "try:\n",
        "    value = my_dict['c']\n",
        "except KeyError:\n",
        "    print(\"Key not found in the dictionary.\")\n"
      ],
      "metadata": {
        "colab": {
          "base_uri": "https://localhost:8080/"
        },
        "id": "-Sx-_7CgwPtH",
        "outputId": "a62c0d08-018c-48cc-de5a-55f4fd42c402"
      },
      "execution_count": null,
      "outputs": [
        {
          "output_type": "stream",
          "name": "stdout",
          "text": [
            "Key not found in the dictionary.\n"
          ]
        }
      ]
    },
    {
      "cell_type": "markdown",
      "source": [
        "Ques 12- Write a program that demonstrates using multiple except blocks to handle different types of exceptions."
      ],
      "metadata": {
        "id": "OzZjZ4w7wm4R"
      }
    },
    {
      "cell_type": "code",
      "source": [
        "#Ans 12-\n",
        "try:\n",
        "    result = 10 / 0\n",
        "except ZeroDivisionError:\n",
        "    print(\"Error: Division by zero\")\n",
        "except ValueError:\n",
        "    print(\"Error: Invalid value\")"
      ],
      "metadata": {
        "colab": {
          "base_uri": "https://localhost:8080/"
        },
        "id": "cqJdk9gBwjTB",
        "outputId": "3a0f6556-4920-49e2-d6b6-a432ddc47946"
      },
      "execution_count": null,
      "outputs": [
        {
          "output_type": "stream",
          "name": "stdout",
          "text": [
            "Error: Division by zero\n"
          ]
        }
      ]
    },
    {
      "cell_type": "markdown",
      "source": [
        "Ques 13- How would you check if a file exists before attempting to read it in Python?"
      ],
      "metadata": {
        "id": "eZkt-0c-wwnq"
      }
    },
    {
      "cell_type": "code",
      "source": [
        "#Ans 13-\n",
        "import os\n",
        "\n",
        "if os.path.exists('example.txt'):\n",
        "    with open('example.txt', 'r') as file:\n",
        "        content = file.read()\n",
        "        print(content)"
      ],
      "metadata": {
        "colab": {
          "base_uri": "https://localhost:8080/"
        },
        "id": "FNbtC0vQwsU7",
        "outputId": "4085df3e-d1f6-4bd0-c2a2-d74163228590"
      },
      "execution_count": null,
      "outputs": [
        {
          "output_type": "stream",
          "name": "stdout",
          "text": [
            "Hello, this is a test!\n",
            "Appended line\n",
            "Appended line\n"
          ]
        }
      ]
    },
    {
      "cell_type": "markdown",
      "source": [
        "Ques 14- Write a program that uses the logging module to log both informational and error messages.\n"
      ],
      "metadata": {
        "id": "88Y9Clfjw_6h"
      }
    },
    {
      "cell_type": "code",
      "source": [
        "#Ans 14-\n",
        "import logging\n",
        "\n",
        "logging.basicConfig(level=logging.INFO)\n",
        "logging.info(\"This is an info message\")\n",
        "\n",
        "logging.basicConfig(level=logging.ERROR)\n",
        "logging.error(\"This is an error message\")"
      ],
      "metadata": {
        "colab": {
          "base_uri": "https://localhost:8080/"
        },
        "id": "TC7rlpI3w32d",
        "outputId": "2f4242c4-b3d3-44fa-9882-23d21b11fe12"
      },
      "execution_count": null,
      "outputs": [
        {
          "output_type": "stream",
          "name": "stderr",
          "text": [
            "ERROR:root:This is an error message\n"
          ]
        }
      ]
    },
    {
      "cell_type": "markdown",
      "source": [
        "Ques 15- Write a Python program that prints the content of a file and handles the case when the file is empty."
      ],
      "metadata": {
        "id": "CM2yP-aUxMBr"
      }
    },
    {
      "cell_type": "code",
      "source": [
        "#Ans 15-\n",
        "try:\n",
        "    with open('example.txt', 'r') as file:\n",
        "        content = file.read()\n",
        "        if content:\n",
        "            print(content)\n",
        "        else:\n",
        "            print(\"File is empty.\")\n",
        "except FileNotFoundError:\n",
        "    print(\"File not found.\")"
      ],
      "metadata": {
        "colab": {
          "base_uri": "https://localhost:8080/"
        },
        "id": "dND8vFaRxRkO",
        "outputId": "6ec73319-178c-4c48-fa1f-9db769987403"
      },
      "execution_count": null,
      "outputs": [
        {
          "output_type": "stream",
          "name": "stdout",
          "text": [
            "Hello, this is a test!\n",
            "Appended line\n",
            "Appended line\n"
          ]
        }
      ]
    },
    {
      "cell_type": "markdown",
      "source": [
        "Ques 16- Demonstrate how to use memory profiling to check the memory usage of a small program."
      ],
      "metadata": {
        "id": "4QjlDhMHxWhz"
      }
    },
    {
      "cell_type": "code",
      "source": [
        "#Ans 16-\n",
        "import tracemalloc\n",
        "\n",
        "tracemalloc.start()\n",
        "\n",
        "# Sample program\n",
        "a = [1] * (10**6)\n",
        "b = [2] * (2 * 10**7)\n",
        "\n",
        "print(f\"Current memory usage: {tracemalloc.get_traced_memory()}\")\n",
        "\n",
        "tracemalloc.stop()"
      ],
      "metadata": {
        "colab": {
          "base_uri": "https://localhost:8080/"
        },
        "id": "AIGDcBulxKFJ",
        "outputId": "a92754d8-5469-4193-aa12-4d661d6061d1"
      },
      "execution_count": null,
      "outputs": [
        {
          "output_type": "stream",
          "name": "stdout",
          "text": [
            "Current memory usage: (168000910, 168011383)\n"
          ]
        }
      ]
    },
    {
      "cell_type": "markdown",
      "source": [
        "Ques 17- Write a Python program to create and write a list of numbers to a file, one number per line."
      ],
      "metadata": {
        "id": "vszfJoRuxoWL"
      }
    },
    {
      "cell_type": "code",
      "source": [
        "#Ans 17-\n",
        "numbers = [1, 2, 3, 4, 5]\n",
        "\n",
        "with open('numbers.txt', 'w') as file:\n",
        "    for number in numbers:\n",
        "        file.write(str(number) + '\\n')\n"
      ],
      "metadata": {
        "id": "2wHrp37axcDF"
      },
      "execution_count": null,
      "outputs": []
    },
    {
      "cell_type": "markdown",
      "source": [
        "Ques 18- How would you implement a basic logging setup that logs to a file with rotation after 1MB?"
      ],
      "metadata": {
        "id": "4Na3Ey4ox0YR"
      }
    },
    {
      "cell_type": "code",
      "source": [
        "#Ans 18-\n",
        "import logging\n",
        "from logging.handlers import RotatingFileHandler\n",
        "\n",
        "logger = logging.getLogger('MyLogger')\n",
        "handler = RotatingFileHandler('my_log.log', maxBytes=1048576, backupCount=3)\n",
        "logger.addHandler(handler)\n",
        "\n",
        "logger.info(\"This is a log message.\")"
      ],
      "metadata": {
        "id": "SwEQ_HE2x7Jz"
      },
      "execution_count": null,
      "outputs": []
    },
    {
      "cell_type": "markdown",
      "source": [
        "Ques 19- Write a program that handles both IndexError and KeyError using a try-except block."
      ],
      "metadata": {
        "id": "--9jNNJAyqUg"
      }
    },
    {
      "cell_type": "code",
      "source": [
        "#Ans 19-\n",
        "my_dict = {'a': 1, 'b': 2}\n",
        "\n",
        "try:\n",
        "    value = my_dict['c']\n",
        "except KeyError:\n",
        "    print(\"Key not found in the dictionary.\")\n",
        "except IndexError:\n",
        "    print(\"Index out of range.\")"
      ],
      "metadata": {
        "colab": {
          "base_uri": "https://localhost:8080/"
        },
        "id": "QtGjw98byENy",
        "outputId": "ef1bb6de-75ff-4378-826a-c7bcb41f6ccc"
      },
      "execution_count": null,
      "outputs": [
        {
          "output_type": "stream",
          "name": "stdout",
          "text": [
            "Key not found in the dictionary.\n"
          ]
        }
      ]
    },
    {
      "cell_type": "markdown",
      "source": [
        "Ques 20- How would you open a file and read its contents using a context manager in Python?"
      ],
      "metadata": {
        "id": "Sqlzicsfy4jK"
      }
    },
    {
      "cell_type": "code",
      "source": [
        "#Ans 20-\n",
        "with open('example.txt', 'r') as file:\n",
        "    content = file.read()\n",
        "    print(content)"
      ],
      "metadata": {
        "colab": {
          "base_uri": "https://localhost:8080/"
        },
        "id": "demyv4v1y1OO",
        "outputId": "ba553384-da34-486c-f07e-7e01d9f1454e"
      },
      "execution_count": null,
      "outputs": [
        {
          "output_type": "stream",
          "name": "stdout",
          "text": [
            "Hello, this is a test!\n",
            "Appended line\n",
            "Appended line\n"
          ]
        }
      ]
    },
    {
      "cell_type": "markdown",
      "source": [
        "Ques 21- Write a Python program that reads a file and prints the number of occurrences of a specific word."
      ],
      "metadata": {
        "id": "FZoNMSMizMxJ"
      }
    },
    {
      "cell_type": "code",
      "source": [
        "#Ans 21-\n",
        "word_to_count = 'Python'\n",
        "\n",
        "with open('example.txt', 'r') as file:\n",
        "    content = file.read()\n",
        "    count = content.count(word_to_count)\n",
        "    print(f\"The word '{word_to_count}' appears {count} times in the file.\")"
      ],
      "metadata": {
        "colab": {
          "base_uri": "https://localhost:8080/"
        },
        "id": "vvC1CMQRzDyz",
        "outputId": "31054a9a-ed9d-4b5c-b845-33f484048ab7"
      },
      "execution_count": null,
      "outputs": [
        {
          "output_type": "stream",
          "name": "stdout",
          "text": [
            "The word 'Python' appears 0 times in the file.\n"
          ]
        }
      ]
    },
    {
      "cell_type": "markdown",
      "source": [
        "Ques 22- How can you check if a file is empty before attempting to read its contents?"
      ],
      "metadata": {
        "id": "_Vu5Bp1Czi5q"
      }
    },
    {
      "cell_type": "code",
      "source": [
        "#Ans 22-\n",
        "import os\n",
        "\n",
        "if os.stat('example.txt').st_size == 0:\n",
        "    print(\"The file is empty.\")\n",
        "else:\n",
        "    with open('example.txt', 'r') as file:\n",
        "        print(file.read())"
      ],
      "metadata": {
        "colab": {
          "base_uri": "https://localhost:8080/"
        },
        "id": "bbFmAYG1zbQi",
        "outputId": "80edfdd0-31ef-4c16-be52-8f087627ca7e"
      },
      "execution_count": null,
      "outputs": [
        {
          "output_type": "stream",
          "name": "stdout",
          "text": [
            "Hello, this is a test!\n",
            "Appended line\n",
            "Appended line\n"
          ]
        }
      ]
    },
    {
      "cell_type": "markdown",
      "source": [
        "Ques 23- Write a Python program that writes to a log file when an error occurs during file handling."
      ],
      "metadata": {
        "id": "9-rqhC5WzyLC"
      }
    },
    {
      "cell_type": "code",
      "source": [
        "#Ans 23-\n",
        "import logging\n",
        "\n",
        "logging.basicConfig(filename='file_error.log', level=logging.ERROR)\n",
        "\n",
        "try:\n",
        "    with open('missing_file.txt', 'r') as file:\n",
        "        content = file.read()\n",
        "except FileNotFoundError as e:\n",
        "    logging.error(f\"Error occurred: {e}\")\n"
      ],
      "metadata": {
        "colab": {
          "base_uri": "https://localhost:8080/"
        },
        "id": "ym0PvQwWznRH",
        "outputId": "181b906e-43ec-45f0-9b89-d9abb2f6500a"
      },
      "execution_count": null,
      "outputs": [
        {
          "output_type": "stream",
          "name": "stderr",
          "text": [
            "ERROR:root:Error occurred: [Errno 2] No such file or directory: 'missing_file.txt'\n"
          ]
        }
      ]
    },
    {
      "cell_type": "code",
      "source": [],
      "metadata": {
        "id": "3ZGlSh4Tz5t5"
      },
      "execution_count": null,
      "outputs": []
    }
  ]
}